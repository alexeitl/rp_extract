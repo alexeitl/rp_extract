{
 "cells": [
  {
   "cell_type": "code",
   "execution_count": 21,
   "metadata": {},
   "outputs": [
    {
     "name": "stdout",
     "output_type": "stream",
     "text": [
      "Populating the interactive namespace from numpy and matplotlib\n",
      "The autoreload extension is already loaded. To reload it, use:\n",
      "  %reload_ext autoreload\n"
     ]
    }
   ],
   "source": [
    "from audiofile_read import *\n",
    "%pylab inline\n",
    "\n",
    "import warnings\n",
    "warnings.filterwarnings('ignore')\n",
    "\n",
    "%load_ext autoreload\n",
    "%autoreload 2\n",
    "\n",
    "# numerical processing and scientific libraries\n",
    "import numpy as np\n",
    "\n",
    "# plotting\n",
    "import matplotlib.pyplot as plt\n",
    "\n",
    "\n",
    "# Rhythm Pattern Audio Extraction Library\n",
    "from rp_extract import rp_extract\n",
    "from rp_plot import *   # can be skipped if you don't want to do any plots\n",
    "\n",
    "\n",
    "# misc\n",
    "from urllib.request import urlopen\n",
    "import urllib.request\n",
    "import gzip\n",
    "from io import StringIO\n",
    "import math\n",
    "import librosa\n",
    "import librosa.display\n",
    "from scipy.io.wavfile import write\n",
    "import pandas as pd"
   ]
  },
  {
   "cell_type": "code",
   "execution_count": 22,
   "metadata": {},
   "outputs": [],
   "source": [
    "from math import*\n",
    "from decimal import Decimal\n",
    "from scipy.spatial import distance\n",
    " \n",
    "class Similarity():\n",
    " \n",
    "    \"\"\" Five similarity measures function \"\"\"\n",
    " \n",
    "    def euclidean_distance(self,x,y):\n",
    " \n",
    "        \"\"\" return euclidean distance between two lists \"\"\"\n",
    " \n",
    "        return sqrt(sum(pow(a-b,2) for a, b in zip(x, y)))\n",
    " \n",
    "    def manhattan_distance(self,x,y):\n",
    " \n",
    "        \"\"\" return manhattan distance between two lists \"\"\"\n",
    " \n",
    "        return sum(abs(a-b) for a,b in zip(x,y))\n",
    " \n",
    "    def minkowski_distance(self,x,y,p_value):\n",
    " \n",
    "        \"\"\" return minkowski distance between two lists \"\"\"\n",
    " \n",
    "        return self.nth_root(sum(pow(abs(a-b),p_value) for a,b in zip(x, y)),\n",
    "           p_value)\n",
    " \n",
    "    def nth_root(self,value, n_root):\n",
    " \n",
    "        \"\"\" returns the n_root of an value \"\"\"\n",
    " \n",
    "        root_value = 1/float(n_root)\n",
    "        return round (Decimal(value) ** Decimal(root_value),3)\n",
    " \n",
    "    def cosine_similarity(self,x,y):\n",
    " \n",
    "        \"\"\" return cosine similarity between two lists \"\"\"\n",
    " \n",
    "        numerator = sum(a*b for a,b in zip(x,y))\n",
    "        denominator = self.square_rooted(x)*self.square_rooted(y)\n",
    "        return round(numerator/float(denominator),3)\n",
    " \n",
    "    def square_rooted(self,x):\n",
    " \n",
    "        \"\"\" return 3 rounded square rooted value \"\"\"\n",
    " \n",
    "        return round(sqrt(sum([a*a for a in x])),3)\n",
    "\n",
    "    def cosine_distance(self, x, y):\n",
    "        \n",
    "        return distance.cosine(x, y)\n",
    " \n",
    "    def jaccard_similarity(self,x,y):\n",
    " \n",
    "        \"\"\" returns the jaccard similarity between two lists \"\"\"\n",
    " \n",
    "        intersection_cardinality = len(set.intersection(*[set(x), set(y)]))\n",
    "        union_cardinality = len(set.union(*[set(x), set(y)]))\n",
    "        return intersection_cardinality/float(union_cardinality)\n",
    "    \n",
    "    def overall_score(self, x, y):\n",
    "        \n",
    "        return (self.manhattan_distance(x, y)+self.euclidean_distance(x,y)) * self.cosine_distance(x,y)\n",
    "        "
   ]
  },
  {
   "cell_type": "code",
   "execution_count": 56,
   "metadata": {},
   "outputs": [],
   "source": [
    "audiofile_match1 = \"../../Matches/12/117---Ini Kamoze - Here Comes The Hotstepper (HQ)-extract.mp3\"\n",
    "audiofile_match2 = \"../../Matches/12/117---Heartbeat-extract.mp3\""
   ]
  },
  {
   "cell_type": "code",
   "execution_count": 63,
   "metadata": {},
   "outputs": [],
   "source": [
    "def rp_histo_curve_fitting_plot(audiofile1, audiofile2):\n",
    "    measure = Similarity()\n",
    "    counter = 0\n",
    "    distances = []\n",
    "    samplerate_match1, samplewidth_match1, wavedata_match1 = audiofile_read(audiofile1)\n",
    "    samplerate_match2, samplewidth_match2, wavedata_match2 = audiofile_read(audiofile2)\n",
    "\n",
    "    features_match1 = rp_extract(wavedata_match1,                            # the two-channel wave-data of the audio-file\n",
    "                                samplerate_match1,                          # the samplerate of the audio-file\n",
    "                                extract_rh          = True,          # <== extract this feature!\n",
    "                                transform_db        = True,          # apply psycho-accoustic transformation\n",
    "                                transform_phon      = True,                       # apply psycho-accoustic transformation\n",
    "                                transform_sone      = True,          # apply psycho-accoustic transformation\n",
    "                                fluctuation_strength_weighting=True, # apply psycho-accoustic transformation\n",
    "                                skip_leadin_fadeout = 1,             # skip lead-in/fade-out. value = number of segments skipped\n",
    "                                step_width          = 1)             \n",
    "    features_match2 = rp_extract(wavedata_match2,                            # the two-channel wave-data of the audio-file\n",
    "                                samplerate_match2,                          # the samplerate of the audio-file\n",
    "                                extract_rh          = True,          # <== extract this feature!    \n",
    "                                transform_db        = True,          # apply psycho-accoustic transformation\n",
    "                                transform_phon      = True,          # apply psycho-accoustic transformation\n",
    "                                transform_sone      = True,          # apply psycho-accoustic transformation\n",
    "                                fluctuation_strength_weighting=True, # apply psycho-accoustic transformation\n",
    "                                skip_leadin_fadeout = 1,             # skip lead-in/fade-out. value = number of segments skipped\n",
    "                                step_width          = 1)\n",
    "    \n",
    "    for x in features_match1[\"rh\"]:\n",
    "        dist = abs(x - features_match2[\"rh\"][counter])\n",
    "        distances.append(dist)\n",
    "        counter += 1\n",
    "    np_distances = np.array(distances)\n",
    "    avg_distance = np.mean(np_distances)\n",
    "    \n",
    "    if np.meanfeatures_match1[\"rh\"][0] < features_match2[\"rh\"][0]:\n",
    "        features_match1_fit = features_match1[\"rh\"] + avg_distance\n",
    "    else:\n",
    "        features_match1_fit = features_match1[\"rh\"] - avg_distance\n",
    "    \n",
    "    plt.plot(features_match1_fit)\n",
    "    plt.plot(features_match2[\"rh\"])\n",
    "\n",
    "    print(\"Overall-Score: \", measure.overall_score(features_match1_fit, features_match2[\"rh\"]))"
   ]
  },
  {
   "cell_type": "code",
   "execution_count": 64,
   "metadata": {},
   "outputs": [
    {
     "name": "stdout",
     "output_type": "stream",
     "text": [
      "Decoded .mp3 with: ffmpeg -v 1 -y -i ../../Matches/12/117---Ini Kamoze - Here Comes The Hotstepper (HQ)-extract.mp3 C:\\Users\\AlexEitl\\AppData\\Local\\Temp\\a128a2aa-1901-433d-bf35-e88428b1873c.wav\n",
      "48000 Hz, 2 channel(s), 961391 samples\n",
      "Resampling to 44100 ...\n",
      "Decoded .mp3 with: ffmpeg -v 1 -y -i ../../Matches/12/117---Heartbeat-extract.mp3 C:\\Users\\AlexEitl\\AppData\\Local\\Temp\\7ab44e0d-947c-498e-b178-a47df6c9991a.wav\n",
      "48000 Hz, 2 channel(s), 961391 samples\n",
      "Resampling to 44100 ...\n",
      "Overall-Score:  61.411024851682065\n"
     ]
    },
    {
     "data": {
      "image/png": "[encoded data removed]",
      "text/plain": [
       "<Figure size 432x288 with 1 Axes>"
      ]
     },
     "metadata": {
      "needs_background": "light"
     },
     "output_type": "display_data"
    }
   ],
   "source": [
    "rp_histo_curve_fitting_plot(audiofile_match1, audiofile_match2)"
   ]
  },
  {
   "cell_type": "code",
   "execution_count": null,
   "metadata": {},
   "outputs": [],
   "source": []
  },
  {
   "cell_type": "code",
   "execution_count": null,
   "metadata": {},
   "outputs": [],
   "source": []
  }
 ],
 "metadata": {
  "kernelspec": {
   "display_name": "Python 3",
   "language": "python",
   "name": "python3"
  },
  "language_info": {
   "codemirror_mode": {
    "name": "ipython",
    "version": 3
   },
   "file_extension": ".py",
   "mimetype": "text/x-python",
   "name": "python",
   "nbconvert_exporter": "python",
   "pygments_lexer": "ipython3",
   "version": "3.8.3"
  }
 },
 "nbformat": 4,
 "nbformat_minor": 4
}
