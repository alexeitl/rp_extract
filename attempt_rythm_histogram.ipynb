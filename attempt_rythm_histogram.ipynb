{
 "cells": [
  {
   "cell_type": "code",
   "execution_count": 4,
   "metadata": {},
   "outputs": [
    {
     "name": "stdout",
     "output_type": "stream",
     "text": [
      "Populating the interactive namespace from numpy and matplotlib\n",
      "The autoreload extension is already loaded. To reload it, use:\n",
      "  %reload_ext autoreload\n"
     ]
    }
   ],
   "source": [
    "from audiofile_read import *\n",
    "%pylab inline\n",
    "\n",
    "import warnings\n",
    "warnings.filterwarnings('ignore')\n",
    "\n",
    "%load_ext autoreload\n",
    "%autoreload 2\n",
    "\n",
    "# numerical processing and scientific libraries\n",
    "import numpy as np\n",
    "\n",
    "# plotting\n",
    "import matplotlib.pyplot as plt\n",
    "\n",
    "\n",
    "# Rhythm Pattern Audio Extraction Library\n",
    "from rp_extract import rp_extract\n",
    "from rp_plot import *   # can be skipped if you don't want to do any plots\n",
    "\n",
    "\n",
    "# misc\n",
    "from urllib.request import urlopen\n",
    "import urllib.request\n",
    "import gzip\n",
    "from io import StringIO\n",
    "import math\n",
    "import librosa\n",
    "import librosa.display\n",
    "from scipy.io.wavfile import write\n",
    "import pandas as pd"
   ]
  },
  {
   "cell_type": "code",
   "execution_count": 30,
   "metadata": {},
   "outputs": [],
   "source": [
    "# provide/adjust the path to your wav or mp3 file\n",
    "\n",
    "audiofile_match1 = \"../../Matches_Beat/7/1-accompaniment.wav\"\n",
    "audiofile_match2 = \"../../Matches_Beat/7/accompaniment.wav\"\n",
    "\n",
    "audiofile_nichtmatch1 = \"../../Matches_Beat/4/1-accompaniment.wav\"\n",
    "audiofile_nichtmatch2 = \"../../Matches_Beat/8/accompaniment.wav\"\n",
    "\n",
    "samplerate_match1, samplewidth_match1, wavedata_match1 = audiofile_read(audiofile_match1)\n",
    "samplerate_match2, samplewidth_match2, wavedata_match2 = audiofile_read(audiofile_match2)\n",
    "\n",
    "samplerate_nichtmatch1, samplewidth_nichtmatch1, wavedata_nichtmatch1 = audiofile_read(audiofile_nichtmatch1)\n",
    "samplerate_nichtmatch2, samplewidth_nichtmatch2, wavedata_nichtmatch2 = audiofile_read(audiofile_nichtmatch2)"
   ]
  },
  {
   "cell_type": "code",
   "execution_count": 31,
   "metadata": {},
   "outputs": [],
   "source": [
    "features_match1 = rp_extract(wavedata_match1,                            # the two-channel wave-data of the audio-file\n",
    "                                samplerate_match1,                          # the samplerate of the audio-file\n",
    "                                extract_rh          = True,          # <== extract this feature!\n",
    "                                transform_db        = True,          # apply psycho-accoustic transformation\n",
    "                                transform_phon      = True,          # apply psycho-accoustic transformation\n",
    "                                transform_sone      = True,          # apply psycho-accoustic transformation\n",
    "                                fluctuation_strength_weighting=True, # apply psycho-accoustic transformation\n",
    "                                skip_leadin_fadeout = 1,             # skip lead-in/fade-out. value = number of segments skipped\n",
    "                                step_width          = 1)             \n",
    "features_match2 = rp_extract(wavedata_match2,                            # the two-channel wave-data of the audio-file\n",
    "                                samplerate_match2,                          # the samplerate of the audio-file\n",
    "                                extract_rh          = True,          # <== extract this feature!\n",
    "                                transform_db        = True,          # apply psycho-accoustic transformation\n",
    "                                transform_phon      = True,          # apply psycho-accoustic transformation\n",
    "                                transform_sone      = True,          # apply psycho-accoustic transformation\n",
    "                                fluctuation_strength_weighting=True, # apply psycho-accoustic transformation\n",
    "                                skip_leadin_fadeout = 1,             # skip lead-in/fade-out. value = number of segments skipped\n",
    "                                step_width          = 1) \n",
    "features_nichtmatch1 = rp_extract(wavedata_nichtmatch1,                            # the two-channel wave-data of the audio-file\n",
    "                                samplerate_nichtmatch1,                          # the samplerate of the audio-file\n",
    "                                extract_rh          = True,          # <== extract this feature!\n",
    "                                transform_db        = True,          # apply psycho-accoustic transformation\n",
    "                                transform_phon      = True,          # apply psycho-accoustic transformation\n",
    "                                transform_sone      = True,          # apply psycho-accoustic transformation\n",
    "                                fluctuation_strength_weighting=True, # apply psycho-accoustic transformation\n",
    "                                skip_leadin_fadeout = 1,             # skip lead-in/fade-out. value = number of segments skipped\n",
    "                                step_width          = 1) \n",
    "features_nichtmatch2 = rp_extract(wavedata_nichtmatch2,                            # the two-channel wave-data of the audio-file\n",
    "                                samplerate_nichtmatch2,                          # the samplerate of the audio-file\n",
    "                                extract_rh          = True,          # <== extract this feature!\n",
    "                                transform_db        = True,          # apply psycho-accoustic transformation\n",
    "                                transform_phon      = True,          # apply psycho-accoustic transformation\n",
    "                                transform_sone      = True,          # apply psycho-accoustic transformation\n",
    "                                fluctuation_strength_weighting=True, # apply psycho-accoustic transformation\n",
    "                                skip_leadin_fadeout = 1,             # skip lead-in/fade-out. value = number of segments skipped\n",
    "                                step_width          = 1) "
   ]
  },
  {
   "cell_type": "code",
   "execution_count": 32,
   "metadata": {
    "scrolled": false
   },
   "outputs": [
    {
     "data": {
      "image/png": "[encoded data removed]",
      "text/plain": [
       "<Figure size 432x288 with 1 Axes>"
      ]
     },
     "metadata": {
      "needs_background": "light"
     },
     "output_type": "display_data"
    },
    {
     "data": {
      "image/png": "[encoded data removed]",
      "text/plain": [
       "<Figure size 432x288 with 1 Axes>"
      ]
     },
     "metadata": {
      "needs_background": "light"
     },
     "output_type": "display_data"
    },
    {
     "data": {
      "image/png": "[encoded data removed]",
      "text/plain": [
       "<Figure size 432x288 with 1 Axes>"
      ]
     },
     "metadata": {
      "needs_background": "light"
     },
     "output_type": "display_data"
    },
    {
     "data": {
      "image/png": "[encoded data removed]",
      "text/plain": [
       "<Figure size 432x288 with 1 Axes>"
      ]
     },
     "metadata": {
      "needs_background": "light"
     },
     "output_type": "display_data"
    }
   ],
   "source": [
    "plotrh(features_match1['rh'])\n",
    "plotrh(features_match2['rh'])\n",
    "plotrh(features_nichtmatch1['rh'])\n",
    "plotrh(features_nichtmatch2['rh'])"
   ]
  },
  {
   "cell_type": "code",
   "execution_count": 33,
   "metadata": {},
   "outputs": [
    {
     "name": "stdout",
     "output_type": "stream",
     "text": [
      "{'rh': array([1.56223444, 2.95672529, 0.67686331, 2.22191041, 0.92734686, 2.12249786, 0.61761136, 2.55490424, 0.99259758, 3.03910263, ..., 0.74154424, 1.11106724, 0.8806532 , 0.96992916, 1.08628773,\n",
      "       1.41254058, 0.9522103 , 0.62133562, 0.71506881, 0.99195134])}\n"
     ]
    }
   ],
   "source": [
    "print(features_match1)"
   ]
  },
  {
   "cell_type": "code",
   "execution_count": 34,
   "metadata": {},
   "outputs": [
    {
     "name": "stdout",
     "output_type": "stream",
     "text": [
      "[1.56223444 2.95672529 0.67686331 2.22191041 0.92734686 2.12249786 0.61761136 2.55490424 0.99259758 3.03910263 ... 0.74154424 1.11106724 0.8806532  0.96992916 1.08628773 1.41254058 0.9522103\n",
      " 0.62133562 0.71506881 0.99195134]\n"
     ]
    }
   ],
   "source": [
    "print(features_match1[\"rh\"])"
   ]
  },
  {
   "cell_type": "code",
   "execution_count": 35,
   "metadata": {},
   "outputs": [],
   "source": [
    "from math import*\n",
    "from decimal import Decimal\n",
    "from scipy.spatial import distance\n",
    " \n",
    "class Similarity():\n",
    " \n",
    "    \"\"\" Five similarity measures function \"\"\"\n",
    " \n",
    "    def euclidean_distance(self,x,y):\n",
    " \n",
    "        \"\"\" return euclidean distance between two lists \"\"\"\n",
    " \n",
    "        return sqrt(sum(pow(a-b,2) for a, b in zip(x, y)))\n",
    " \n",
    "    def manhattan_distance(self,x,y):\n",
    " \n",
    "        \"\"\" return manhattan distance between two lists \"\"\"\n",
    " \n",
    "        return sum(abs(a-b) for a,b in zip(x,y))\n",
    " \n",
    "    def minkowski_distance(self,x,y,p_value):\n",
    " \n",
    "        \"\"\" return minkowski distance between two lists \"\"\"\n",
    " \n",
    "        return self.nth_root(sum(pow(abs(a-b),p_value) for a,b in zip(x, y)),\n",
    "           p_value)\n",
    " \n",
    "    def nth_root(self,value, n_root):\n",
    " \n",
    "        \"\"\" returns the n_root of an value \"\"\"\n",
    " \n",
    "        root_value = 1/float(n_root)\n",
    "        return round (Decimal(value) ** Decimal(root_value),3)\n",
    " \n",
    "    def cosine_similarity(self,x,y):\n",
    " \n",
    "        \"\"\" return cosine similarity between two lists \"\"\"\n",
    " \n",
    "        numerator = sum(a*b for a,b in zip(x,y))\n",
    "        denominator = self.square_rooted(x)*self.square_rooted(y)\n",
    "        return round(numerator/float(denominator),3)\n",
    " \n",
    "    def square_rooted(self,x):\n",
    " \n",
    "        \"\"\" return 3 rounded square rooted value \"\"\"\n",
    " \n",
    "        return round(sqrt(sum([a*a for a in x])),3)\n",
    "\n",
    "    def cosine_distance(self, x, y):\n",
    "        \n",
    "        return distance.cosine(x, y)\n",
    " \n",
    "    def jaccard_similarity(self,x,y):\n",
    " \n",
    "        \"\"\" returns the jaccard similarity between two lists \"\"\"\n",
    " \n",
    "        intersection_cardinality = len(set.intersection(*[set(x), set(y)]))\n",
    "        union_cardinality = len(set.union(*[set(x), set(y)]))\n",
    "        return intersection_cardinality/float(union_cardinality)"
   ]
  },
  {
   "cell_type": "code",
   "execution_count": 36,
   "metadata": {},
   "outputs": [],
   "source": [
    "measures = Similarity()"
   ]
  },
  {
   "cell_type": "code",
   "execution_count": 37,
   "metadata": {},
   "outputs": [
    {
     "name": "stdout",
     "output_type": "stream",
     "text": [
      "8.891751665552516\n",
      "35.18343216137001\n",
      "0.885\n",
      "0.877\n",
      "0.11494841362862596\n",
      "0.12328146762859027\n",
      "50.87221477865846\n",
      "166.53106271470682\n"
     ]
    }
   ],
   "source": [
    "print(measures.euclidean_distance(features_match1[\"rh\"], features_match2[\"rh\"]))\n",
    "print(measures.euclidean_distance(features_nichtmatch1[\"rh\"], features_nichtmatch2[\"rh\"]))\n",
    "\n",
    "print(measures.cosine_similarity(features_match1[\"rh\"], features_match2[\"rh\"]))\n",
    "print(measures.cosine_similarity(features_nichtmatch1[\"rh\"], features_nichtmatch2[\"rh\"]))\n",
    "\n",
    "print(measures.cosine_distance(features_match1[\"rh\"], features_match2[\"rh\"]))\n",
    "print(measures.cosine_distance(features_nichtmatch1[\"rh\"], features_nichtmatch2[\"rh\"]))\n",
    "\n",
    "print(measures.manhattan_distance(features_match1[\"rh\"], features_match2[\"rh\"]))\n",
    "print(measures.manhattan_distance(features_nichtmatch1[\"rh\"], features_nichtmatch2[\"rh\"]))\n"
   ]
  },
  {
   "cell_type": "code",
   "execution_count": null,
   "metadata": {},
   "outputs": [],
   "source": []
  },
  {
   "cell_type": "code",
   "execution_count": null,
   "metadata": {},
   "outputs": [],
   "source": []
  },
  {
   "cell_type": "code",
   "execution_count": null,
   "metadata": {},
   "outputs": [],
   "source": []
  }
 ],
 "metadata": {
  "kernelspec": {
   "display_name": "PyCharm (python_for_machine_learning)",
   "language": "python",
   "name": "pycharm-b61ba970"
  },
  "language_info": {
   "codemirror_mode": {
    "name": "ipython",
    "version": 3
   },
   "file_extension": ".py",
   "mimetype": "text/x-python",
   "name": "python",
   "nbconvert_exporter": "python",
   "pygments_lexer": "ipython3",
   "version": "3.8.3"
  }
 },
 "nbformat": 4,
 "nbformat_minor": 4
}
