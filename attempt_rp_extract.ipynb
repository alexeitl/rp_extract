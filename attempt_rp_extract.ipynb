{
 "cells": [
  {
   "cell_type": "code",
   "execution_count": 3,
   "metadata": {},
   "outputs": [
    {
     "name": "stdout",
     "output_type": "stream",
     "text": [
      "Populating the interactive namespace from numpy and matplotlib\n"
     ]
    }
   ],
   "source": [
    "from audiofile_read import *\n",
    "%pylab inline\n",
    "\n",
    "import warnings\n",
    "warnings.filterwarnings('ignore')\n",
    "\n",
    "%load_ext autoreload\n",
    "%autoreload 2\n",
    "\n",
    "# numerical processing and scientific libraries\n",
    "import numpy as np\n",
    "\n",
    "# plotting\n",
    "import matplotlib.pyplot as plt\n",
    "\n",
    "\n",
    "# Rhythm Pattern Audio Extraction Library\n",
    "from rp_extract import rp_extract\n",
    "from rp_plot import *   # can be skipped if you don't want to do any plots\n",
    "\n",
    "\n",
    "# misc\n",
    "from urllib.request import urlopen\n",
    "import urllib.request\n",
    "import gzip\n",
    "from io import StringIO\n",
    "import math\n",
    "import librosa\n",
    "import librosa.display\n",
    "from scipy.io.wavfile import write\n",
    "import pandas as pd"
   ]
  },
  {
   "cell_type": "code",
   "execution_count": 122,
   "metadata": {},
   "outputs": [],
   "source": [
    "# provide/adjust the path to your wav or mp3 file\n",
    "\n",
    "audiofile_match1 = \"../../Matches_Beat/9/1-accompaniment.wav\"\n",
    "audiofile_match2 = \"../../Matches_Beat/9/accompaniment.wav\"\n",
    "\n",
    "audiofile_nichtmatch1 = \"../../Matches_Beat/7/1-accompaniment.wav\"\n",
    "audiofile_nichtmatch2 = \"../../Matches_Beat/2/accompaniment.wav\"\n",
    "\n",
    "samplerate_match1, samplewidth_match1, wavedata_match1 = audiofile_read(audiofile_match1)\n",
    "samplerate_match2, samplewidth_match2, wavedata_match2 = audiofile_read(audiofile_match2)\n",
    "\n",
    "samplerate_nichtmatch1, samplewidth_nichtmatch1, wavedata_nichtmatch1 = audiofile_read(audiofile_nichtmatch1)\n",
    "samplerate_nichtmatch2, samplewidth_nichtmatch2, wavedata_nichtmatch2 = audiofile_read(audiofile_nichtmatch2)"
   ]
  },
  {
   "cell_type": "code",
   "execution_count": 123,
   "metadata": {},
   "outputs": [],
   "source": [
    "features_match2 = rp_extract(wavedata_match2,                            # the two-channel wave-data of the audio-file\n",
    "                                samplerate_match2,                          # the samplerate of the audio-file\n",
    "                                extract_rp          = True,          # <== extract this feature!\n",
    "                                transform_db        = True,          # apply psycho-accoustic transformation\n",
    "                                transform_phon      = True,          # apply psycho-accoustic transformation\n",
    "                                transform_sone      = True,          # apply psycho-accoustic transformation\n",
    "                                fluctuation_strength_weighting=True, # apply psycho-accoustic transformation\n",
    "                                skip_leadin_fadeout = 1,             # skip lead-in/fade-out. value = number of segments skipped\n",
    "                                step_width          = 1)             #\n",
    "\n",
    "features_match1 = rp_extract(wavedata_match1,                            # the two-channel wave-data of the audio-file\n",
    "                                samplerate_match1,                          # the samplerate of the audio-file\n",
    "                                extract_rp          = True,          # <== extract this feature!\n",
    "                                transform_db        = True,          # apply psycho-accoustic transformation\n",
    "                                transform_phon      = True,          # apply psycho-accoustic transformation\n",
    "                                transform_sone      = True,          # apply psycho-accoustic transformation\n",
    "                                fluctuation_strength_weighting=True, # apply psycho-accoustic transformation\n",
    "                                skip_leadin_fadeout = 1,             # skip lead-in/fade-out. value = number of segments skipped\n",
    "                                step_width          = 1)             #\n",
    "\n",
    "features_nichtmatch1 = rp_extract(wavedata_nichtmatch1,                            # the two-channel wave-data of the audio-file\n",
    "                                samplerate_nichtmatch1,                          # the samplerate of the audio-file\n",
    "                                extract_rp          = True,          # <== extract this feature!\n",
    "                                transform_db        = True,          # apply psycho-accoustic transformation\n",
    "                                transform_phon      = True,          # apply psycho-accoustic transformation\n",
    "                                transform_sone      = True,          # apply psycho-accoustic transformation\n",
    "                                fluctuation_strength_weighting=True, # apply psycho-accoustic transformation\n",
    "                                skip_leadin_fadeout = 1,             # skip lead-in/fade-out. value = number of segments skipped\n",
    "                                step_width          = 1)             #\n",
    "\n",
    "features_nichtmatch2 = rp_extract(wavedata_nichtmatch2,                            # the two-channel wave-data of the audio-file\n",
    "                                samplerate_nichtmatch2,                          # the samplerate of the audio-file\n",
    "                                extract_rp          = True,          # <== extract this feature!\n",
    "                                transform_db        = True,          # apply psycho-accoustic transformation\n",
    "                                transform_phon      = True,          # apply psycho-accoustic transformation\n",
    "                                transform_sone      = True,          # apply psycho-accoustic transformation\n",
    "                                fluctuation_strength_weighting=True, # apply psycho-accoustic transformation\n",
    "                                skip_leadin_fadeout = 1,             # skip lead-in/fade-out. value = number of segments skipped\n",
    "                                step_width          = 1)             #"
   ]
  },
  {
   "cell_type": "code",
   "execution_count": 124,
   "metadata": {},
   "outputs": [
    {
     "data": {
      "image/png": "[encoded data removed]",
      "text/plain": [
       "<Figure size 432x288 with 1 Axes>"
      ]
     },
     "metadata": {
      "needs_background": "light"
     },
     "output_type": "display_data"
    },
    {
     "data": {
      "image/png": "[encoded data removed]",
      "text/plain": [
       "<Figure size 432x288 with 1 Axes>"
      ]
     },
     "metadata": {
      "needs_background": "light"
     },
     "output_type": "display_data"
    },
    {
     "data": {
      "image/png": "[encoded data removed]",
      "text/plain": [
       "<Figure size 432x288 with 1 Axes>"
      ]
     },
     "metadata": {
      "needs_background": "light"
     },
     "output_type": "display_data"
    },
    {
     "data": {
      "image/png": "[encoded data removed]",
      "text/plain": [
       "<Figure size 432x288 with 1 Axes>"
      ]
     },
     "metadata": {
      "needs_background": "light"
     },
     "output_type": "display_data"
    }
   ],
   "source": [
    "plotrp(features_match1['rp'])\n",
    "plotrp(features_match2['rp'])\n",
    "plotrp(features_nichtmatch1['rp'])\n",
    "plotrp(features_nichtmatch2['rp'])"
   ]
  },
  {
   "cell_type": "code",
   "execution_count": 125,
   "metadata": {},
   "outputs": [],
   "source": [
    "match1 = features_match1[\"rp\"]\n",
    "match2 = features_match2[\"rp\"]\n",
    "nichtmatch1 = features_nichtmatch1[\"rp\"]\n",
    "nichtmatch2 = features_nichtmatch2[\"rp\"]\n",
    "\n",
    "\n",
    "write(\"../../rp_extractor_to_wav/example_match1.wav\", samplerate_match1, match1)\n",
    "write(\"../../rp_extractor_to_wav/example_match2.wav\", samplerate_match2, match2)\n",
    "\n",
    "\n",
    "\n",
    "\n",
    "write(\"../../rp_extractor_to_wav/example_nichtmatch1.wav\", samplerate_nichtmatch1, nichtmatch1)\n",
    "write(\"../../rp_extractor_to_wav/example_nichtmatch2.wav\", samplerate_nichtmatch2, nichtmatch2)"
   ]
  },
  {
   "cell_type": "code",
   "execution_count": 126,
   "metadata": {},
   "outputs": [],
   "source": [
    "from math import*\n",
    "from decimal import Decimal\n",
    " \n",
    "class Similarity():\n",
    " \n",
    "    \"\"\" Five similarity measures function \"\"\"\n",
    " \n",
    "    def euclidean_distance(self,x,y):\n",
    " \n",
    "        \"\"\" return euclidean distance between two lists \"\"\"\n",
    " \n",
    "        return sqrt(sum(pow(a-b,2) for a, b in zip(x, y)))\n",
    " \n",
    "    def manhattan_distance(self,x,y):\n",
    " \n",
    "        \"\"\" return manhattan distance between two lists \"\"\"\n",
    " \n",
    "        return sum(abs(a-b) for a,b in zip(x,y))\n",
    " \n",
    "    def minkowski_distance(self,x,y,p_value):\n",
    " \n",
    "        \"\"\" return minkowski distance between two lists \"\"\"\n",
    " \n",
    "        return self.nth_root(sum(pow(abs(a-b),p_value) for a,b in zip(x, y)),\n",
    "           p_value)\n",
    " \n",
    "    def nth_root(self,value, n_root):\n",
    " \n",
    "        \"\"\" returns the n_root of an value \"\"\"\n",
    " \n",
    "        root_value = 1/float(n_root)\n",
    "        return round (Decimal(value) ** Decimal(root_value),3)\n",
    " \n",
    "    def cosine_similarity(self,x,y):\n",
    " \n",
    "        \"\"\" return cosine similarity between two lists \"\"\"\n",
    " \n",
    "        numerator = sum(a*b for a,b in zip(x,y))\n",
    "        denominator = self.square_rooted(x)*self.square_rooted(y)\n",
    "        return round(numerator/float(denominator),3)\n",
    " \n",
    "    def square_rooted(self,x):\n",
    " \n",
    "        \"\"\" return 3 rounded square rooted value \"\"\"\n",
    " \n",
    "        return round(sqrt(sum([a*a for a in x])),3)\n",
    " \n",
    "    def jaccard_similarity(self,x,y):\n",
    " \n",
    "        \"\"\" returns the jaccard similarity between two lists \"\"\"\n",
    " \n",
    "        intersection_cardinality = len(set.intersection(*[set(x), set(y)]))\n",
    "        union_cardinality = len(set.union(*[set(x), set(y)]))\n",
    "        return intersection_cardinality/float(union_cardinality)"
   ]
  },
  {
   "cell_type": "code",
   "execution_count": 127,
   "metadata": {},
   "outputs": [
    {
     "name": "stdout",
     "output_type": "stream",
     "text": [
      "Euclidean:  1.4268977046493392\n",
      "Euclidean:  1.5583375617742359\n",
      "Jaccard:  0.0\n",
      "Jaccard:  0.0\n",
      "Cosine:  0.608\n",
      "Cosine:  0.547\n",
      "Manhattan:  32.410999745974685\n",
      "Manhattan:  32.50735057120804\n",
      "Minkowski:  32.411\n",
      "Minkowski:  32.507\n"
     ]
    }
   ],
   "source": [
    "measures = Similarity()\n",
    " \n",
    "print(\"Euclidean: \", measures.euclidean_distance(match1, match2))\n",
    "print(\"Euclidean: \", measures.euclidean_distance(nichtmatch1, nichtmatch2))\n",
    "\n",
    "print(\"Jaccard: \", measures.jaccard_similarity(match1, match2))\n",
    "print(\"Jaccard: \", measures.jaccard_similarity(nichtmatch1, nichtmatch2))\n",
    "\n",
    "print(\"Cosine: \", measures.cosine_similarity(match1, match2))\n",
    "print(\"Cosine: \", measures.cosine_similarity(nichtmatch1, nichtmatch2))\n",
    "\n",
    "print(\"Manhattan: \", measures.manhattan_distance(match2, match1))\n",
    "print(\"Manhattan: \", measures.manhattan_distance(nichtmatch1, nichtmatch2))\n",
    "\n",
    "print(\"Minkowski: \", measures.minkowski_distance(match1, match2, 1))\n",
    "print(\"Minkowski: \", measures.minkowski_distance(nichtmatch1, nichtmatch2, 1))"
   ]
  },
  {
   "cell_type": "code",
   "execution_count": null,
   "metadata": {},
   "outputs": [],
   "source": []
  },
  {
   "cell_type": "code",
   "execution_count": 128,
   "metadata": {},
   "outputs": [
    {
     "ename": "NameError",
     "evalue": "name 'wavedata' is not defined",
     "output_type": "error",
     "traceback": [
      "\u001b[1;31m---------------------------------------------------------------------------\u001b[0m",
      "\u001b[1;31mNameError\u001b[0m                                 Traceback (most recent call last)",
      "\u001b[1;32m<ipython-input-128-f06d39d28959>\u001b[0m in \u001b[0;36m<module>\u001b[1;34m\u001b[0m\n\u001b[0;32m      1\u001b[0m \u001b[1;31m# use combine the channels by calculating their geometric mean\u001b[0m\u001b[1;33m\u001b[0m\u001b[1;33m\u001b[0m\u001b[1;33m\u001b[0m\u001b[0m\n\u001b[1;32m----> 2\u001b[1;33m \u001b[0mwavedata_mono\u001b[0m \u001b[1;33m=\u001b[0m \u001b[0mnp\u001b[0m\u001b[1;33m.\u001b[0m\u001b[0mmean\u001b[0m\u001b[1;33m(\u001b[0m\u001b[0mwavedata\u001b[0m\u001b[1;33m,\u001b[0m \u001b[0maxis\u001b[0m\u001b[1;33m=\u001b[0m\u001b[1;36m1\u001b[0m\u001b[1;33m)\u001b[0m\u001b[1;33m\u001b[0m\u001b[1;33m\u001b[0m\u001b[0m\n\u001b[0m\u001b[0;32m      3\u001b[0m \u001b[1;33m\u001b[0m\u001b[0m\n\u001b[0;32m      4\u001b[0m \u001b[1;31m# use combine the channels by calculating their geometric mean\u001b[0m\u001b[1;33m\u001b[0m\u001b[1;33m\u001b[0m\u001b[1;33m\u001b[0m\u001b[0m\n\u001b[0;32m      5\u001b[0m \u001b[0mwavedata_mono2\u001b[0m \u001b[1;33m=\u001b[0m \u001b[0mnp\u001b[0m\u001b[1;33m.\u001b[0m\u001b[0mmean\u001b[0m\u001b[1;33m(\u001b[0m\u001b[0mwavedata2\u001b[0m\u001b[1;33m,\u001b[0m \u001b[0maxis\u001b[0m\u001b[1;33m=\u001b[0m\u001b[1;36m1\u001b[0m\u001b[1;33m)\u001b[0m\u001b[1;33m\u001b[0m\u001b[1;33m\u001b[0m\u001b[0m\n",
      "\u001b[1;31mNameError\u001b[0m: name 'wavedata' is not defined"
     ]
    }
   ],
   "source": [
    "# use combine the channels by calculating their geometric mean\n",
    "wavedata_mono = np.mean(wavedata, axis=1)\n",
    "\n",
    "# use combine the channels by calculating their geometric mean\n",
    "wavedata_mono2 = np.mean(wavedata2, axis=1)"
   ]
  },
  {
   "cell_type": "code",
   "execution_count": 129,
   "metadata": {},
   "outputs": [],
   "source": [
    "features_match1 = rp_extract(wavedata_match1,                            # the two-channel wave-data of the audio-file\n",
    "                                samplerate_match1,                          # the samplerate of the audio-file\n",
    "                                extract_ssd         = True,          # <== extract this feature!\n",
    "                                transform_db        = True,          # apply psycho-accoustic transformation\n",
    "                                transform_phon      = True,          # apply psycho-accoustic transformation\n",
    "                                transform_sone      = True,          # apply psycho-accoustic transformation\n",
    "                                fluctuation_strength_weighting=True, # apply psycho-accoustic transformation\n",
    "                                skip_leadin_fadeout = 1,             # skip lead-in/fade-out. value = number of segments skipped\n",
    "                                step_width          = 1)             #\n",
    "\n",
    "features_match2 = rp_extract(wavedata_match2,                            # the two-channel wave-data of the audio-file\n",
    "                                samplerate_match2,                          # the samplerate of the audio-file\n",
    "                                extract_ssd         = True,          # <== extract this feature!\n",
    "                                transform_db        = True,          # apply psycho-accoustic transformation\n",
    "                                transform_phon      = True,          # apply psycho-accoustic transformation\n",
    "                                transform_sone      = True,          # apply psycho-accoustic transformation\n",
    "                                fluctuation_strength_weighting=True, # apply psycho-accoustic transformation\n",
    "                                skip_leadin_fadeout = 1,             # skip lead-in/fade-out. value = number of segments skipped\n",
    "                                step_width          = 1)  \n",
    "\n",
    "features_nichtmatch1 = rp_extract(wavedata_nichtmatch1,                            # the two-channel wave-data of the audio-file\n",
    "                                samplerate_nichtmatch1,                          # the samplerate of the audio-file\n",
    "                                extract_ssd         = True,          # <== extract this feature!\n",
    "                                transform_db        = True,          # apply psycho-accoustic transformation\n",
    "                                transform_phon      = True,          # apply psycho-accoustic transformation\n",
    "                                transform_sone      = True,          # apply psycho-accoustic transformation\n",
    "                                fluctuation_strength_weighting=True, # apply psycho-accoustic transformation\n",
    "                                skip_leadin_fadeout = 1,             # skip lead-in/fade-out. value = number of segments skipped\n",
    "                                step_width          = 1)             #\n",
    "\n",
    "features_nichtmatch2 = rp_extract(wavedata_nichtmatch2,                            # the two-channel wave-data of the audio-file\n",
    "                                samplerate_nichtmatch2,                          # the samplerate of the audio-file\n",
    "                                extract_ssd         = True,          # <== extract this feature!\n",
    "                                transform_db        = True,          # apply psycho-accoustic transformation\n",
    "                                transform_phon      = True,          # apply psycho-accoustic transformation\n",
    "                                transform_sone      = True,          # apply psycho-accoustic transformation\n",
    "                                fluctuation_strength_weighting=True, # apply psycho-accoustic transformation\n",
    "                                skip_leadin_fadeout = 1,             # skip lead-in/fade-out. value = number of segments skipped\n",
    "                                step_width          = 1)  "
   ]
  },
  {
   "cell_type": "code",
   "execution_count": null,
   "metadata": {},
   "outputs": [],
   "source": []
  },
  {
   "cell_type": "code",
   "execution_count": 130,
   "metadata": {},
   "outputs": [
    {
     "name": "stdout",
     "output_type": "stream",
     "text": [
      "[[0.25303832 0.25973994]\n",
      " [0.20864852 0.15341768]\n",
      " [0.19113699 0.17028701]\n",
      " [0.19545288 0.1964173 ]\n",
      " [0.25796717 0.21442051]\n",
      " [0.38591257 0.31096575]\n",
      " [0.33530223 0.26064005]\n",
      " [0.3815062  0.33605435]\n",
      " [0.9420176  1.        ]\n",
      " [1.         0.8892095 ]\n",
      " [0.7366454  0.7492946 ]\n",
      " [0.48537418 0.5327267 ]]\n",
      "[[0.3800255  0.27084664]\n",
      " [0.27105632 0.2335812 ]\n",
      " [0.37525234 0.2728861 ]\n",
      " [0.2419852  0.17529102]\n",
      " [0.3163485  0.25496206]\n",
      " [0.48371556 0.40177542]\n",
      " [0.2709124  0.21188977]\n",
      " [0.31216434 0.23120348]\n",
      " [0.40924233 0.266571  ]\n",
      " [0.6432768  0.5470812 ]\n",
      " [1.         1.        ]\n",
      " [0.6314242  0.42305794]]\n",
      "[[0.13160026 0.13724774 0.14184357]\n",
      " [0.17401728 0.15716265 0.16547605]\n",
      " [0.23814143 0.23172922 0.20567682]\n",
      " [0.26466957 0.31626317 0.31828186]\n",
      " [0.29013684 0.4000048  0.4814018 ]\n",
      " [0.34279788 0.33658865 0.3710668 ]\n",
      " [0.19016258 0.19252911 0.17789416]\n",
      " [0.15122393 0.15664572 0.13843212]\n",
      " [0.13094507 0.14348835 0.18743674]\n",
      " [0.6113961  0.54953784 0.50816005]\n",
      " [1.         1.         1.        ]\n",
      " [0.18920802 0.20403147 0.20945917]]\n"
     ]
    },
    {
     "data": {
      "image/png": "[encoded data removed]",
      "text/plain": [
       "<Figure size 432x288 with 2 Axes>"
      ]
     },
     "metadata": {
      "needs_background": "light"
     },
     "output_type": "display_data"
    },
    {
     "data": {
      "image/png": "[encoded data removed]",
      "text/plain": [
       "<Figure size 432x288 with 2 Axes>"
      ]
     },
     "metadata": {
      "needs_background": "light"
     },
     "output_type": "display_data"
    },
    {
     "data": {
      "image/png": "[encoded data removed]",
      "text/plain": [
       "<Figure size 432x288 with 2 Axes>"
      ]
     },
     "metadata": {
      "needs_background": "light"
     },
     "output_type": "display_data"
    },
    {
     "data": {
      "image/png": "[encoded data removed]",
      "text/plain": [
       "<Figure size 432x288 with 2 Axes>"
      ]
     },
     "metadata": {
      "needs_background": "light"
     },
     "output_type": "display_data"
    }
   ],
   "source": [
    "### MATCH\n",
    "path = \"../../rp_extractor_to_wav/example_match1.wav\"\n",
    "x, fs = librosa.load(path)\n",
    "mfcc = librosa.feature.mfcc(y=x, sr=fs, n_mfcc=12)\n",
    "onset_env = librosa.onset.onset_strength(x, fs, aggregate=np.median)\n",
    "tempo, beats = librosa.beat.beat_track(onset_envelope=onset_env,sr=fs)\n",
    "times = librosa.frames_to_time(np.arange(len(onset_env)), sr=fs, hop_length= 512)\n",
    "chroma_match1 = librosa.feature.chroma_stft(x, fs)\n",
    "\n",
    "path = \"../../rp_extractor_to_wav/example_match2.wav\"\n",
    "x, fs = librosa.load(path)\n",
    "mfcc = librosa.feature.mfcc(y=x, sr=fs, n_mfcc=12)\n",
    "onset_env = librosa.onset.onset_strength(x, fs, aggregate=np.median)\n",
    "tempo, beats = librosa.beat.beat_track(onset_envelope=onset_env,sr=fs)\n",
    "times = librosa.frames_to_time(np.arange(len(onset_env)), sr=fs, hop_length= 512)\n",
    "chroma_match2 = librosa.feature.chroma_stft(x, fs)\n",
    "\n",
    "\n",
    "\n",
    "#NICHTMATCH\n",
    "path = \"../../rp_extractor_to_wav/example_nichtmatch1.wav\"\n",
    "x, fs = librosa.load(path)\n",
    "mfcc = librosa.feature.mfcc(y=x, sr=fs, n_mfcc=12)\n",
    "onset_env = librosa.onset.onset_strength(x, fs, aggregate=np.median)\n",
    "tempo, beats = librosa.beat.beat_track(onset_envelope=onset_env,sr=fs)\n",
    "times = librosa.frames_to_time(np.arange(len(onset_env)), sr=fs, hop_length= 512)\n",
    "chroma_nichtmatch1 = librosa.feature.chroma_stft(x, fs)\n",
    "\n",
    "path = \"../../rp_extractor_to_wav/example_nichtmatch2.wav\"\n",
    "x, fs = librosa.load(path)\n",
    "mfcc = librosa.feature.mfcc(y=x, sr=fs, n_mfcc=12)\n",
    "onset_env = librosa.onset.onset_strength(x, fs, aggregate=np.median)\n",
    "tempo, beats = librosa.beat.beat_track(onset_envelope=onset_env,sr=fs)\n",
    "times = librosa.frames_to_time(np.arange(len(onset_env)), sr=fs, hop_length= 512)\n",
    "chroma_nichtmatch2 = librosa.feature.chroma_stft(x, fs)\n",
    "\n",
    "fig, ax = plt.subplots()\n",
    "img = librosa.display.specshow(chroma_match1, y_axis='chroma', x_axis='time', ax=ax)\n",
    "fig.colorbar(img, ax=ax)\n",
    "ax.set(title='Chromagram')\n",
    "\n",
    "fig, ax = plt.subplots()\n",
    "img = librosa.display.specshow(chroma_match2, y_axis='chroma', x_axis='time', ax=ax)\n",
    "fig.colorbar(img, ax=ax)\n",
    "ax.set(title='Chromagram')\n",
    "\n",
    "fig, ax = plt.subplots()\n",
    "img = librosa.display.specshow(chroma_nichtmatch1, y_axis='chroma', x_axis='time', ax=ax)\n",
    "fig.colorbar(img, ax=ax)\n",
    "ax.set(title='Chromagram')\n",
    "\n",
    "fig, ax = plt.subplots()\n",
    "img = librosa.display.specshow(chroma_nichtmatch2, y_axis='chroma', x_axis='time', ax=ax)\n",
    "fig.colorbar(img, ax=ax)\n",
    "ax.set(title='Chromagram')\n",
    "\n",
    "print(chroma_match1)\n",
    "print(chroma_match2)\n",
    "print(chroma_nichtmatch2)"
   ]
  },
  {
   "cell_type": "code",
   "execution_count": 131,
   "metadata": {},
   "outputs": [
    {
     "name": "stdout",
     "output_type": "stream",
     "text": [
      "Euclidean:  1.162081170698407\n",
      "Euclidean:  0.790761712248344\n",
      "Jaccard:  0.022222222222222223\n",
      "Jaccard:  0.014925373134328358\n",
      "Cosine:  0.889\n",
      "Cosine:  0.961\n",
      "Manhattan:  3.9447412490844727\n",
      "Manhattan:  3.937188073992729\n",
      "Minkowski:  3.945\n",
      "Minkowski:  3.937\n"
     ]
    }
   ],
   "source": [
    "chromameasures = Similarity()\n",
    " \n",
    "print(\"Euclidean: \", chromameasures.euclidean_distance(chroma_match1.ravel(), chroma_match2.ravel()))\n",
    "print(\"Euclidean: \", chromameasures.euclidean_distance(chroma_nichtmatch1.ravel(), chroma_nichtmatch2.ravel()))\n",
    "\n",
    "print(\"Jaccard: \", chromameasures.jaccard_similarity(chroma_match1.ravel(), chroma_match2.ravel()))\n",
    "print(\"Jaccard: \", chromameasures.jaccard_similarity(chroma_nichtmatch1.ravel(), chroma_nichtmatch2.ravel()))\n",
    "\n",
    "print(\"Cosine: \", chromameasures.cosine_similarity(chroma_match1.ravel(), chroma_match2.ravel()))\n",
    "print(\"Cosine: \", chromameasures.cosine_similarity(chroma_nichtmatch1.ravel(), chroma_nichtmatch2.ravel()))\n",
    "\n",
    "print(\"Manhattan: \", chromameasures.manhattan_distance(chroma_match2.ravel(), chroma_match1.ravel()))\n",
    "print(\"Manhattan: \", chromameasures.manhattan_distance(chroma_nichtmatch1.ravel(), chroma_nichtmatch2.ravel()))\n",
    "\n",
    "print(\"Minkowski: \", chromameasures.minkowski_distance(chroma_match1.ravel(), chroma_match2.ravel(), 1))\n",
    "print(\"Minkowski: \", chromameasures.minkowski_distance(chroma_nichtmatch1.ravel(), chroma_nichtmatch2.ravel(), 1))"
   ]
  },
  {
   "cell_type": "code",
   "execution_count": null,
   "metadata": {},
   "outputs": [],
   "source": []
  },
  {
   "cell_type": "code",
   "execution_count": null,
   "metadata": {},
   "outputs": [],
   "source": []
  },
  {
   "cell_type": "code",
   "execution_count": null,
   "metadata": {},
   "outputs": [],
   "source": []
  },
  {
   "cell_type": "code",
   "execution_count": null,
   "metadata": {},
   "outputs": [],
   "source": []
  }
 ],
 "metadata": {
  "kernelspec": {
   "display_name": "Python 3",
   "language": "python",
   "name": "python3"
  },
  "language_info": {
   "codemirror_mode": {
    "name": "ipython",
    "version": 3
   },
   "file_extension": ".py",
   "mimetype": "text/x-python",
   "name": "python",
   "nbconvert_exporter": "python",
   "pygments_lexer": "ipython3",
   "version": "3.8.3"
  }
 },
 "nbformat": 4,
 "nbformat_minor": 4
}
